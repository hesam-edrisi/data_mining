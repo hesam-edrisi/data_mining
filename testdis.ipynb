{
 "cells": [
  {
   "cell_type": "markdown",
   "metadata": {},
   "source": [
    "## import libraries"
   ]
  },
  {
   "cell_type": "code",
   "execution_count": 88,
   "metadata": {},
   "outputs": [],
   "source": [
    "import glob\n",
    "import os"
   ]
  },
  {
   "cell_type": "markdown",
   "metadata": {},
   "source": [
    "# image folder directory not path"
   ]
  },
  {
   "cell_type": "code",
   "execution_count": 2,
   "metadata": {},
   "outputs": [],
   "source": [
    "images_folder = './data/images/'"
   ]
  },
  {
   "cell_type": "code",
   "execution_count": 3,
   "metadata": {},
   "outputs": [],
   "source": [
    "result_path = 'data/images_crops'"
   ]
  },
  {
   "cell_type": "markdown",
   "metadata": {},
   "source": [
    "## reading all the images in the folder and subfolders\n"
   ]
  },
  {
   "cell_type": "code",
   "execution_count": 4,
   "metadata": {},
   "outputs": [],
   "source": [
    "image_files = glob.glob(images_folder + '/**/*.jpg', recursive=True)\n",
    "image_files += glob.glob(images_folder + '/**/*.jpeg', recursive=True)\n",
    "image_files += glob.glob(images_folder + '/**/*.png', recursive=True)\n",
    "# Add more file extensions if needed"
   ]
  },
  {
   "cell_type": "markdown",
   "metadata": {},
   "source": [
    "## list comprehension for reading a list"
   ]
  },
  {
   "cell_type": "code",
   "execution_count": 12,
   "metadata": {},
   "outputs": [],
   "source": [
    "image_files = [image_file for image_file in image_files if 'line_crops' in image_file]"
   ]
  },
  {
   "cell_type": "code",
   "execution_count": 1,
   "metadata": {},
   "outputs": [],
   "source": [
    "#image_files"
   ]
  },
  {
   "cell_type": "markdown",
   "metadata": {},
   "source": [
    "## for copy and sotre files to a folder by paths"
   ]
  },
  {
   "cell_type": "code",
   "execution_count": 11,
   "metadata": {},
   "outputs": [],
   "source": [
    "import os\n",
    "import shutil\n",
    "\n",
    "destination_folder = './data/images_crops/'\n",
    "\n",
    "# Get a list of all files in the destination folder\n",
    "existing_files = os.listdir(destination_folder)\n",
    "\n",
    "# Get the maximum number used in the destination folder filenames\n",
    "max_number = max([int(file.split('.')[0]) for file in existing_files]) if existing_files else 0\n"
   ]
  },
  {
   "cell_type": "code",
   "execution_count": 20,
   "metadata": {},
   "outputs": [],
   "source": [
    "# Copy files to the destination folder and rename them\n",
    "for file in image_files:\n",
    "    # Generate a new filename using the next available number\n",
    "    new_filename = str(max_number + 1).zfill(3)# + '.' + file.split('.')[1]\n",
    "    \n",
    "    # Copy the file to the destination folder\n",
    "    shutil.copy(file, os.path.join(destination_folder, f'{new_filename}.png'))\n",
    "    \n",
    "    # Increment the maximum number\n",
    "    max_number += 1"
   ]
  },
  {
   "cell_type": "code",
   "execution_count": 16,
   "metadata": {},
   "outputs": [
    {
     "data": {
      "text/plain": [
       "'./data/images_crops/'"
      ]
     },
     "execution_count": 16,
     "metadata": {},
     "output_type": "execute_result"
    }
   ],
   "source": [
    "destination_folder"
   ]
  },
  {
   "cell_type": "code",
   "execution_count": 17,
   "metadata": {},
   "outputs": [
    {
     "data": {
      "text/plain": [
       "'001./data/images\\\\faselae etminan & azmune farz\\\\1\\\\line_crops\\\\1_0_line_0'"
      ]
     },
     "execution_count": 17,
     "metadata": {},
     "output_type": "execute_result"
    }
   ],
   "source": [
    "new_filename"
   ]
  },
  {
   "cell_type": "code",
   "execution_count": 18,
   "metadata": {},
   "outputs": [
    {
     "data": {
      "text/plain": [
       "0"
      ]
     },
     "execution_count": 18,
     "metadata": {},
     "output_type": "execute_result"
    }
   ],
   "source": [
    "max_number"
   ]
  },
  {
   "cell_type": "code",
   "execution_count": 22,
   "metadata": {},
   "outputs": [],
   "source": [
    "import pandas as pd\n"
   ]
  },
  {
   "cell_type": "code",
   "execution_count": 23,
   "metadata": {},
   "outputs": [],
   "source": [
    "df = {'name':[], 'text': []}"
   ]
  },
  {
   "cell_type": "code",
   "execution_count": 28,
   "metadata": {},
   "outputs": [],
   "source": [
    "df['name'] = [f'{i}.png' for i in range(1511, 8727)]\n",
    "df['text'] = ['-' for i in range(1511, 8727)]"
   ]
  },
  {
   "cell_type": "code",
   "execution_count": 29,
   "metadata": {},
   "outputs": [],
   "source": [
    "df = pd.DataFrame(df)"
   ]
  },
  {
   "cell_type": "code",
   "execution_count": 31,
   "metadata": {},
   "outputs": [],
   "source": [
    "df.to_excel('data/labels.xlsx', index=False)"
   ]
  },
  {
   "cell_type": "markdown",
   "metadata": {},
   "source": [
    "## hesam "
   ]
  },
  {
   "cell_type": "markdown",
   "metadata": {},
   "source": [
    "## reading an exel file"
   ]
  },
  {
   "cell_type": "code",
   "execution_count": 4,
   "metadata": {},
   "outputs": [
    {
     "name": "stderr",
     "output_type": "stream",
     "text": [
      "C:\\Users\\hesam\\AppData\\Local\\Temp\\ipykernel_10208\\1322822807.py:1: DeprecationWarning: \n",
      "Pyarrow will become a required dependency of pandas in the next major release of pandas (pandas 3.0),\n",
      "(to allow more performant data types, such as the Arrow string type, and better interoperability with other libraries)\n",
      "but was not found to be installed on your system.\n",
      "If this would cause problems for you,\n",
      "please provide us feedback at https://github.com/pandas-dev/pandas/issues/54466\n",
      "        \n",
      "  import pandas as pd\n"
     ]
    }
   ],
   "source": [
    "import pandas as pd\n",
    "df = pd.read_excel(\"D:\\\\HesamEdrisi\\\\git_repos\\\\ocr\\\\data_gathering\\\\labels_h.xlsx\")"
   ]
  },
  {
   "cell_type": "markdown",
   "metadata": {},
   "source": [
    "## show a coloum in data frame with little condition"
   ]
  },
  {
   "cell_type": "code",
   "execution_count": 30,
   "metadata": {},
   "outputs": [],
   "source": [
    "\n",
    "fills  = df[df[\"text\"]!= \"-\"]\n",
    "files_list = fills[\"name\"]\n",
    "\n",
    "\n"
   ]
  },
  {
   "cell_type": "markdown",
   "metadata": {},
   "source": [
    "## turn object to list"
   ]
  },
  {
   "cell_type": "code",
   "execution_count": null,
   "metadata": {},
   "outputs": [],
   "source": [
    "lst = list(files_list)"
   ]
  },
  {
   "cell_type": "markdown",
   "metadata": {},
   "source": [
    "## add a string to a list with comprehension"
   ]
  },
  {
   "cell_type": "code",
   "execution_count": 31,
   "metadata": {},
   "outputs": [],
   "source": [
    "import os\n",
    "import glob\n",
    "directory = \"D:\\\\HesamEdrisi\\\\git_repos\\\\ocr\\\\data_gathering\\\\data\\\\images_crops\\\\\"\n",
    "lst2 = [directory + s for s in lst]\n",
    "\n"
   ]
  },
  {
   "cell_type": "markdown",
   "metadata": {},
   "source": [
    "## show max and min of heights, width and... turn topple to 2 arguments for adding to list"
   ]
  },
  {
   "cell_type": "code",
   "execution_count": 91,
   "metadata": {},
   "outputs": [
    {
     "name": "stdout",
     "output_type": "stream",
     "text": [
      " min height is: 20\n",
      " max height is: 249 \n",
      " min width is: 48\n",
      " max width is: 2882 \n",
      " median of heights is: 117 \n",
      " median width is: 465 \n"
     ]
    }
   ],
   "source": [
    "from PIL import Image\n",
    "widths = []\n",
    "heights = []\n",
    "\n",
    "for i in lst2:\n",
    "    img = Image.open(i)\n",
    "    width, height = img.size\n",
    "    widths.append(width)\n",
    "    heights.append(height)\n",
    "\n",
    "smallest_height = min(heights)\n",
    "largest_height = max(heights)\n",
    "smallest_width = min(widths)\n",
    "largest_width = max(widths)\n",
    "median_of_heights = sorted(heights)[len(heights)//2]\n",
    "median_of_width = sorted(widths)[len(widths)// 2]\n",
    "\n",
    "\n",
    "print(f\" min height is: {smallest_height}\")\n",
    "print(f\" max height is: {largest_height} \")\n",
    "print(f\" min width is: {smallest_width}\")\n",
    "print(f\" max width is: {largest_width} \")\n",
    "\n",
    "print(f\" median of heights is: {median_of_heights} \")\n",
    "print(f\" median width is: {median_of_width} \")\n"
   ]
  },
  {
   "cell_type": "code",
   "execution_count": 87,
   "metadata": {},
   "outputs": [
    {
     "data": {
      "text/plain": [
       "(325, 108)"
      ]
     },
     "execution_count": 87,
     "metadata": {},
     "output_type": "execute_result"
    }
   ],
   "source": []
  }
 ],
 "metadata": {
  "kernelspec": {
   "display_name": "ocr",
   "language": "python",
   "name": "python3"
  },
  "language_info": {
   "codemirror_mode": {
    "name": "ipython",
    "version": 3
   },
   "file_extension": ".py",
   "mimetype": "text/x-python",
   "name": "python",
   "nbconvert_exporter": "python",
   "pygments_lexer": "ipython3",
   "version": "3.11.7"
  }
 },
 "nbformat": 4,
 "nbformat_minor": 2
}
