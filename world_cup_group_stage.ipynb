{
 "cells": [
  {
   "cell_type": "code",
   "execution_count": null,
   "id": "e14078c2",
   "metadata": {},
   "outputs": [],
   "source": []
  },
  {
   "cell_type": "code",
   "execution_count": 3,
   "id": "01e682ef",
   "metadata": {},
   "outputs": [],
   "source": [
    "import pandas as pd"
   ]
  },
  {
   "cell_type": "code",
   "execution_count": 4,
   "id": "20454d15",
   "metadata": {},
   "outputs": [
    {
     "data": {
      "text/html": [
       "<div>\n",
       "<style scoped>\n",
       "    .dataframe tbody tr th:only-of-type {\n",
       "        vertical-align: middle;\n",
       "    }\n",
       "\n",
       "    .dataframe tbody tr th {\n",
       "        vertical-align: top;\n",
       "    }\n",
       "\n",
       "    .dataframe thead th {\n",
       "        text-align: right;\n",
       "    }\n",
       "</style>\n",
       "<table border=\"1\" class=\"dataframe\">\n",
       "  <thead>\n",
       "    <tr style=\"text-align: right;\">\n",
       "      <th></th>\n",
       "      <th>Team Name</th>\n",
       "      <th>points</th>\n",
       "      <th>wins</th>\n",
       "      <th>loses</th>\n",
       "      <th>draws</th>\n",
       "      <th>goal difference</th>\n",
       "    </tr>\n",
       "  </thead>\n",
       "  <tbody>\n",
       "    <tr>\n",
       "      <th>0</th>\n",
       "      <td>Iran</td>\n",
       "      <td>0</td>\n",
       "      <td>0</td>\n",
       "      <td>0</td>\n",
       "      <td>0</td>\n",
       "      <td>0</td>\n",
       "    </tr>\n",
       "    <tr>\n",
       "      <th>1</th>\n",
       "      <td>Morocco</td>\n",
       "      <td>0</td>\n",
       "      <td>0</td>\n",
       "      <td>0</td>\n",
       "      <td>0</td>\n",
       "      <td>0</td>\n",
       "    </tr>\n",
       "    <tr>\n",
       "      <th>2</th>\n",
       "      <td>Portugal</td>\n",
       "      <td>0</td>\n",
       "      <td>0</td>\n",
       "      <td>0</td>\n",
       "      <td>0</td>\n",
       "      <td>0</td>\n",
       "    </tr>\n",
       "    <tr>\n",
       "      <th>3</th>\n",
       "      <td>spain</td>\n",
       "      <td>0</td>\n",
       "      <td>0</td>\n",
       "      <td>0</td>\n",
       "      <td>0</td>\n",
       "      <td>0</td>\n",
       "    </tr>\n",
       "  </tbody>\n",
       "</table>\n",
       "</div>"
      ],
      "text/plain": [
       "  Team Name  points  wins  loses  draws  goal difference\n",
       "0      Iran       0     0      0      0                0\n",
       "1   Morocco       0     0      0      0                0\n",
       "2  Portugal       0     0      0      0                0\n",
       "3     spain       0     0      0      0                0"
      ]
     },
     "execution_count": 4,
     "metadata": {},
     "output_type": "execute_result"
    }
   ],
   "source": [
    "world_cup= pd.read_csv('world_cup.csv')\n",
    "world_cup"
   ]
  },
  {
   "cell_type": "code",
   "execution_count": 5,
   "id": "20cd85ab",
   "metadata": {},
   "outputs": [
    {
     "name": "stdout",
     "output_type": "stream",
     "text": [
      "Enter the result of spain vs Iran : 1-2\n",
      "Enter the result of portugal vs Iran : 2-2\n",
      "Enter the result of Morocco vs Iran : 5-1\n",
      "Enter the result of portugal vs spain : 3-2\n",
      "Enter the result of Morocco vs spain : 1-1\n",
      "Enter the result of Morocco vs portugal : 0-1\n"
     ]
    }
   ],
   "source": [
    "s1, i1 = map(int,input( \"Enter the result of spain vs Iran : \").split(\"-\"))\n",
    "p1, i2 = map(int,input( \"Enter the result of portugal vs Iran : \").split(\"-\"))\n",
    "m1, i3 = map(int,input( \"Enter the result of Morocco vs Iran : \").split(\"-\"))\n",
    "p2, s2 = map(int,input( \"Enter the result of portugal vs spain : \").split(\"-\"))\n",
    "m2, s3 = map(int,input( \"Enter the result of Morocco vs spain : \").split(\"-\"))\n",
    "m3, p3 = map(int,input( \"Enter the result of Morocco vs portugal : \").split(\"-\"))"
   ]
  },
  {
   "cell_type": "code",
   "execution_count": 6,
   "id": "c3fc7a7a",
   "metadata": {},
   "outputs": [],
   "source": [
    "goal_diff_spain = ((s1+s2+s3)-(i1+p2+m2))\n",
    "goal_diff_Iran =((i1+i2+i3)-(s1+p1+m1))\n",
    "goal_diff_Morocco =((m1+m2+m3)-(i3+s3+p3))\n",
    "goal_diff_Portugal =((p1+p2+p3)-(i2+s2+m3))\n"
   ]
  },
  {
   "cell_type": "code",
   "execution_count": 7,
   "id": "1ecd1f3a",
   "metadata": {},
   "outputs": [
    {
     "data": {
      "text/plain": [
       "-3"
      ]
     },
     "execution_count": 7,
     "metadata": {},
     "output_type": "execute_result"
    }
   ],
   "source": [
    "goal_diff_Iran"
   ]
  },
  {
   "cell_type": "code",
   "execution_count": 8,
   "id": "9c5ad8e6",
   "metadata": {},
   "outputs": [
    {
     "name": "stdout",
     "output_type": "stream",
     "text": [
      "<class 'list'>\n"
     ]
    }
   ],
   "source": [
    "#1 iran vs spain\n",
    "if s1 == i1: \n",
    "    iran1 = [1,0,0,1,0]\n",
    "    spain1 = [1,0,0,1,0]\n",
    "elif s1 > i1:\n",
    "    spain1 = [3,1,0,0,(s1-i1)]\n",
    "    iran1 = [0,0,0,1,(i1-s1)]\n",
    "else:\n",
    "    iran1 = [3,1,0,0,(i1-s1)]\n",
    "    spain1 = [0,0,1,0,(s1-i1)]\n",
    "print(type(iran1))    "
   ]
  },
  {
   "cell_type": "code",
   "execution_count": 9,
   "id": "f1862c25",
   "metadata": {},
   "outputs": [],
   "source": [
    "#2 \n",
    "\n",
    "if p1 == i2:\n",
    "    portugal1 = [1,0,0,1,0]\n",
    "    iran2 = [1,0,0,1,0]\n",
    "elif p1 > i2:\n",
    "    portugal1 = [3,1,0,0,(p1-i2)]\n",
    "    iran2 = [0,0,0,1,(i2-p1)]\n",
    "else:\n",
    "     portugal1 =[0,0,0,1,(p1-i2)]\n",
    "     iran2 =[3,1,0,0,(i2-p1)]   "
   ]
  },
  {
   "cell_type": "code",
   "execution_count": 10,
   "id": "07b47d2f",
   "metadata": {},
   "outputs": [],
   "source": [
    "#3\n",
    "if m1 == i3:\n",
    "    Morocco1 = [1,0,0,1,0]\n",
    "    iran3 = [1,0,0,1,0]\n",
    "elif m1 > i3:\n",
    "    Morocco1 = [3,1,0,0,(m1-i3)]\n",
    "    iran3 =[0,0,0,1,(i3-m1)]\n",
    "else:\n",
    "     Morocco1 = [0,0,0,1,(m1-i3)]\n",
    "     iran3 = [3,1,0,0,(i3-m1)]"
   ]
  },
  {
   "cell_type": "code",
   "execution_count": 11,
   "id": "77590682",
   "metadata": {},
   "outputs": [],
   "source": [
    "#4\n",
    "if p2 == s2:\n",
    "    portugal2 = [1,0,0,1,0]\n",
    "    spain2 = [1,0,0,1,0]\n",
    "elif p2 > s2:\n",
    "    portugal2 = [3,1,0,0,(p2-s2)]\n",
    "    spain2 = [0,0,0,1,(s2-p2)]\n",
    "else:\n",
    "     portugal2 = [0,0,0,1,(p2-s2)]\n",
    "     spain2 = [3,1,0,0,(s2-p2)]"
   ]
  },
  {
   "cell_type": "code",
   "execution_count": 12,
   "id": "8334e60e",
   "metadata": {},
   "outputs": [],
   "source": [
    "#5\n",
    "if m2 == s3:\n",
    "    Morocco2 = [1,0,0,1,0]\n",
    "    spain3 = [1,0,0,1,0]\n",
    "elif m2 > s3:\n",
    "    Morocco2 = [3,1,0,0,(m2-s3)]\n",
    "    spain3 = [0,0,0,1,(s3-m2)]\n",
    "else:\n",
    "     Morocco2 = [0,0,0,1,(m2-s3)]\n",
    "     spain3 = [3,1,0,0,(s3-m2)]"
   ]
  },
  {
   "cell_type": "code",
   "execution_count": 13,
   "id": "d863a048",
   "metadata": {},
   "outputs": [],
   "source": [
    "#6\n",
    "if m3 == p3:\n",
    "    Morocco3 = [1,0,0,1,0]\n",
    "    portugal3 = [1,0,0,1,0]\n",
    "elif m3 > p3:\n",
    "    Morocco3 = [3,1,0,0,(m3-p3)]\n",
    "    portugal3 = [0,0,0,1,(p3-m3)]\n",
    "else:\n",
    "     Morocco3 = [0,0,0,1,(m3-p3)]\n",
    "     portugal3 = [3,1,0,0,(p3-m3)]\n"
   ]
  },
  {
   "cell_type": "code",
   "execution_count": 42,
   "id": "11bafaa4",
   "metadata": {},
   "outputs": [
    {
     "data": {
      "text/plain": [
       "['iran', 4, 1, 0, 2, -3]"
      ]
     },
     "execution_count": 42,
     "metadata": {},
     "output_type": "execute_result"
    }
   ],
   "source": [
    "\n",
    "portugal = [portugal1, portugal2, portugal3]\n",
    "Morocco = [Morocco1, Morocco2 , Morocco3]\n",
    "spain = [spain1, spain2, spain3]\n",
    "iran = [iran1, iran2, iran3]\n",
    "irant = ['iran'] + [sum(x) for x in zip(*iran)]\n",
    "portugalt = ['portugal'] + [sum(x) for x in zip(*portugal)]\n",
    "Moroccot = ['Morocco'] + [sum(x) for x in zip(*Morocco)]\n",
    "spaint = ['spain'] + [sum(x) for x in zip(*spain)]\n",
    "irant"
   ]
  },
  {
   "cell_type": "code",
   "execution_count": null,
   "id": "ed314ad0",
   "metadata": {},
   "outputs": [],
   "source": []
  },
  {
   "cell_type": "code",
   "execution_count": 46,
   "id": "d3adc0ad",
   "metadata": {},
   "outputs": [
    {
     "data": {
      "text/html": [
       "<div>\n",
       "<style scoped>\n",
       "    .dataframe tbody tr th:only-of-type {\n",
       "        vertical-align: middle;\n",
       "    }\n",
       "\n",
       "    .dataframe tbody tr th {\n",
       "        vertical-align: top;\n",
       "    }\n",
       "\n",
       "    .dataframe thead th {\n",
       "        text-align: right;\n",
       "    }\n",
       "</style>\n",
       "<table border=\"1\" class=\"dataframe\">\n",
       "  <thead>\n",
       "    <tr style=\"text-align: right;\">\n",
       "      <th></th>\n",
       "      <th>Team Name</th>\n",
       "      <th>points</th>\n",
       "      <th>wins</th>\n",
       "      <th>loses</th>\n",
       "      <th>draws</th>\n",
       "      <th>goal difference</th>\n",
       "    </tr>\n",
       "  </thead>\n",
       "  <tbody>\n",
       "    <tr>\n",
       "      <th>0</th>\n",
       "      <td>iran</td>\n",
       "      <td>4</td>\n",
       "      <td>1</td>\n",
       "      <td>0</td>\n",
       "      <td>2</td>\n",
       "      <td>-3</td>\n",
       "    </tr>\n",
       "    <tr>\n",
       "      <th>1</th>\n",
       "      <td>portugal</td>\n",
       "      <td>7</td>\n",
       "      <td>2</td>\n",
       "      <td>0</td>\n",
       "      <td>1</td>\n",
       "      <td>2</td>\n",
       "    </tr>\n",
       "    <tr>\n",
       "      <th>2</th>\n",
       "      <td>Morocco</td>\n",
       "      <td>4</td>\n",
       "      <td>1</td>\n",
       "      <td>0</td>\n",
       "      <td>2</td>\n",
       "      <td>3</td>\n",
       "    </tr>\n",
       "    <tr>\n",
       "      <th>3</th>\n",
       "      <td>spain</td>\n",
       "      <td>1</td>\n",
       "      <td>0</td>\n",
       "      <td>1</td>\n",
       "      <td>2</td>\n",
       "      <td>-2</td>\n",
       "    </tr>\n",
       "  </tbody>\n",
       "</table>\n",
       "</div>"
      ],
      "text/plain": [
       "  Team Name  points  wins  loses  draws  goal difference\n",
       "0      iran       4     1      0      2               -3\n",
       "1  portugal       7     2      0      1                2\n",
       "2   Morocco       4     1      0      2                3\n",
       "3     spain       1     0      1      2               -2"
      ]
     },
     "metadata": {},
     "output_type": "display_data"
    }
   ],
   "source": [
    "# using iloc\n",
    "world_cup.iloc[0] = irant\n",
    "world_cup.iloc[1] = portugalt\n",
    "world_cup.iloc[2] = Moroccot\n",
    "world_cup.iloc[3] = spaint\n",
    " \n",
    "# display\n",
    "display(world_cup)"
   ]
  },
  {
   "cell_type": "code",
   "execution_count": 58,
   "id": "fa9bd40b",
   "metadata": {},
   "outputs": [
    {
     "data": {
      "text/html": [
       "<div>\n",
       "<style scoped>\n",
       "    .dataframe tbody tr th:only-of-type {\n",
       "        vertical-align: middle;\n",
       "    }\n",
       "\n",
       "    .dataframe tbody tr th {\n",
       "        vertical-align: top;\n",
       "    }\n",
       "\n",
       "    .dataframe thead th {\n",
       "        text-align: right;\n",
       "    }\n",
       "</style>\n",
       "<table border=\"1\" class=\"dataframe\">\n",
       "  <thead>\n",
       "    <tr style=\"text-align: right;\">\n",
       "      <th></th>\n",
       "      <th>Team Name</th>\n",
       "      <th>points</th>\n",
       "      <th>wins</th>\n",
       "      <th>loses</th>\n",
       "      <th>draws</th>\n",
       "      <th>goal difference</th>\n",
       "    </tr>\n",
       "  </thead>\n",
       "  <tbody>\n",
       "    <tr>\n",
       "      <th>1</th>\n",
       "      <td>portugal</td>\n",
       "      <td>7</td>\n",
       "      <td>2</td>\n",
       "      <td>0</td>\n",
       "      <td>1</td>\n",
       "      <td>2</td>\n",
       "    </tr>\n",
       "    <tr>\n",
       "      <th>0</th>\n",
       "      <td>iran</td>\n",
       "      <td>4</td>\n",
       "      <td>1</td>\n",
       "      <td>0</td>\n",
       "      <td>2</td>\n",
       "      <td>-3</td>\n",
       "    </tr>\n",
       "    <tr>\n",
       "      <th>2</th>\n",
       "      <td>Morocco</td>\n",
       "      <td>4</td>\n",
       "      <td>1</td>\n",
       "      <td>0</td>\n",
       "      <td>2</td>\n",
       "      <td>3</td>\n",
       "    </tr>\n",
       "    <tr>\n",
       "      <th>3</th>\n",
       "      <td>spain</td>\n",
       "      <td>1</td>\n",
       "      <td>0</td>\n",
       "      <td>1</td>\n",
       "      <td>2</td>\n",
       "      <td>-2</td>\n",
       "    </tr>\n",
       "  </tbody>\n",
       "</table>\n",
       "</div>"
      ],
      "text/plain": [
       "  Team Name  points  wins  loses  draws  goal difference\n",
       "1  portugal       7     2      0      1                2\n",
       "0      iran       4     1      0      2               -3\n",
       "2   Morocco       4     1      0      2                3\n",
       "3     spain       1     0      1      2               -2"
      ]
     },
     "execution_count": 58,
     "metadata": {},
     "output_type": "execute_result"
    }
   ],
   "source": [
    " world_cup.sort_values('points', ascending=False)   "
   ]
  },
  {
   "cell_type": "code",
   "execution_count": 59,
   "id": "5ad6889f",
   "metadata": {},
   "outputs": [
    {
     "data": {
      "text/html": [
       "<div>\n",
       "<style scoped>\n",
       "    .dataframe tbody tr th:only-of-type {\n",
       "        vertical-align: middle;\n",
       "    }\n",
       "\n",
       "    .dataframe tbody tr th {\n",
       "        vertical-align: top;\n",
       "    }\n",
       "\n",
       "    .dataframe thead th {\n",
       "        text-align: right;\n",
       "    }\n",
       "</style>\n",
       "<table border=\"1\" class=\"dataframe\">\n",
       "  <thead>\n",
       "    <tr style=\"text-align: right;\">\n",
       "      <th></th>\n",
       "      <th>Team Name</th>\n",
       "      <th>points</th>\n",
       "      <th>wins</th>\n",
       "      <th>loses</th>\n",
       "      <th>draws</th>\n",
       "      <th>goal difference</th>\n",
       "    </tr>\n",
       "  </thead>\n",
       "  <tbody>\n",
       "    <tr>\n",
       "      <th>0</th>\n",
       "      <td>portugal</td>\n",
       "      <td>7</td>\n",
       "      <td>2</td>\n",
       "      <td>0</td>\n",
       "      <td>1</td>\n",
       "      <td>2</td>\n",
       "    </tr>\n",
       "    <tr>\n",
       "      <th>1</th>\n",
       "      <td>Morocco</td>\n",
       "      <td>4</td>\n",
       "      <td>1</td>\n",
       "      <td>0</td>\n",
       "      <td>2</td>\n",
       "      <td>3</td>\n",
       "    </tr>\n",
       "    <tr>\n",
       "      <th>2</th>\n",
       "      <td>iran</td>\n",
       "      <td>4</td>\n",
       "      <td>1</td>\n",
       "      <td>0</td>\n",
       "      <td>2</td>\n",
       "      <td>-3</td>\n",
       "    </tr>\n",
       "    <tr>\n",
       "      <th>3</th>\n",
       "      <td>spain</td>\n",
       "      <td>1</td>\n",
       "      <td>0</td>\n",
       "      <td>1</td>\n",
       "      <td>2</td>\n",
       "      <td>-2</td>\n",
       "    </tr>\n",
       "  </tbody>\n",
       "</table>\n",
       "</div>"
      ],
      "text/plain": [
       "  Team Name  points  wins  loses  draws  goal difference\n",
       "0  portugal       7     2      0      1                2\n",
       "1   Morocco       4     1      0      2                3\n",
       "2      iran       4     1      0      2               -3\n",
       "3     spain       1     0      1      2               -2"
      ]
     },
     "execution_count": 59,
     "metadata": {},
     "output_type": "execute_result"
    }
   ],
   "source": [
    "world_cup.sort_values(['points', 'goal difference', 'wins'], ascending=False ,ignore_index =True )"
   ]
  },
  {
   "cell_type": "code",
   "execution_count": null,
   "id": "35d66f51",
   "metadata": {},
   "outputs": [],
   "source": []
  }
 ],
 "metadata": {
  "kernelspec": {
   "display_name": "Python 3 (ipykernel)",
   "language": "python",
   "name": "python3"
  },
  "language_info": {
   "codemirror_mode": {
    "name": "ipython",
    "version": 3
   },
   "file_extension": ".py",
   "mimetype": "text/x-python",
   "name": "python",
   "nbconvert_exporter": "python",
   "pygments_lexer": "ipython3",
   "version": "3.9.12"
  }
 },
 "nbformat": 4,
 "nbformat_minor": 5
}
